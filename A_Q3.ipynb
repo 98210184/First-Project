{
  "nbformat": 4,
  "nbformat_minor": 0,
  "metadata": {
    "colab": {
      "name": "Untitled0.ipynb",
      "provenance": [],
      "collapsed_sections": [],
      "authorship_tag": "ABX9TyMjG3OocezO7M8531ORkuYP",
      "include_colab_link": true
    },
    "kernelspec": {
      "name": "python3",
      "display_name": "Python 3"
    }
  },
  "cells": [
    {
      "cell_type": "markdown",
      "metadata": {
        "id": "view-in-github",
        "colab_type": "text"
      },
      "source": [
        "<a href=\"https://colab.research.google.com/github/98210184/First-Project/blob/master/A_Q3.ipynb\" target=\"_parent\"><img src=\"https://colab.research.google.com/assets/colab-badge.svg\" alt=\"Open In Colab\"/></a>"
      ]
    },
    {
      "cell_type": "code",
      "metadata": {
        "id": "oPHKM_noDQdj",
        "colab_type": "code",
        "colab": {}
      },
      "source": [
        "\"\"\"Created By --> Iman Sharifi 98210184\"\"\"\n",
        "__author__ = \"iman Sharifi\"\n",
        "__email__  = \"iman.sharifi.edu@gmail.edu\"\n",
        "\n",
        "# Standard Import\n",
        "import cv2\n",
        "import numpy as np\n",
        "from matplotlib import pyplot as plt\n",
        "\n",
        "# Read Image\n",
        "img = cv2.imread(\"2.jpg\",0)\n",
        "\n",
        "h,w = img.shape[:2]\n",
        "\n",
        "# New Size for Image\n",
        "h_new, w_new = 400,300\n",
        "\n",
        "# Image Resizing\n",
        "img2 = cv2.resize(img,(w_new,h_new),interpolation = cv2.INTER_CUBIC)\n",
        "\n",
        "# Low Pass Filter(Average)\n",
        "a      = 5\n",
        "kernel = np.ones((a,a),np.float32)/(a*a)\n",
        "img3   = cv2.filter2D(img2,-1,kernel)\n",
        "\n",
        "# Edge Detection with Sobel Filter on Filtered Image\n",
        "kernel_X = np.array([[-1,-2,-1],[0,0,0],[1,2,1]],np.float32)\n",
        "kernel_Y = np.array([[-1,0,1],[-2,0,2],[-1,0,1]],np.float32)\n",
        "\n",
        "img4  = cv2.filter2D(img3,-1,kernel_X)\n",
        "img5  = cv2.filter2D(img3,-1,kernel_Y)\n",
        "\n",
        "# Plot Images\n",
        "plt.subplot(121),plt.imshow(img),plt.title(\"Original Image\")\n",
        "plt.xticks([]),plt.yticks([])\n",
        "plt.subplot(122),plt.imshow(img2),plt.title(\"Resized Image\")\n",
        "plt.xticks([]),plt.yticks([])\n",
        "plt.show()\n",
        "\n",
        "plt.subplot(121),plt.imshow(img2),plt.title(\"Original Image\")\n",
        "plt.xticks([]),plt.yticks([])\n",
        "plt.subplot(122),plt.imshow(img3),plt.title(\"Average Filter\")\n",
        "plt.xticks([]),plt.yticks([])\n",
        "plt.show()\n",
        "\n",
        "plt.subplot(121),plt.imshow(img2),plt.title(\"Original Image\")\n",
        "plt.xticks([]),plt.yticks([])\n",
        "plt.subplot(122),plt.imshow(img4,cmap='gray', vmin=0, vmax=255),plt.title(\"Horizontal Sobel + Average Filter\")\n",
        "plt.xticks([]),plt.yticks([])\n",
        "plt.show()\n",
        "\n",
        "plt.subplot(121),plt.imshow(img2),plt.title(\"Original Image\")\n",
        "plt.xticks([]),plt.yticks([])\n",
        "plt.subplot(122),plt.imshow(img5,cmap='gray', vmin=0, vmax=255),plt.title(\"Vertical Sobel + Average Filter\")\n",
        "plt.xticks([]),plt.yticks([])\n",
        "plt.show()\n",
        "\n",
        "# Save Images\n",
        "cv2.imwrite(\"Q3_1.jpg\",img4)\n",
        "cv2.imwrite(\"Q3_2.jpg\",img5)\n",
        "\n"
      ],
      "execution_count": 0,
      "outputs": []
    }
  ]
}